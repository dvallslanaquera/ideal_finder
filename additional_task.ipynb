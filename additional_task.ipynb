{
 "cells": [
  {
   "cell_type": "markdown",
   "metadata": {},
   "source": [
    "In this notebook we will be covering this additional task: \n",
    "\n",
    "Assume that your successfully created project is on the Version Control System Git and has a Branch called develop. On this Branch, all operations of the developer team are combined.\n",
    "Write the Git-commands necessary to clone the branch and? develop on your local PC. Imagine that you have added a new function. Write all necessary Git-commands to introduce this project to the team’s develop Branch.\n",
    "Please note: You need the commands for commit, push. Afterwards, you would make a Pull-request and your\n",
    "contribution would be added “merged” to the develop Branch after one or several of your team has reviewed your changes."
   ]
  },
  {
   "cell_type": "markdown",
   "metadata": {},
   "source": [
    "### 1- Clone the branch 'develop'"
   ]
  },
  {
   "cell_type": "code",
   "execution_count": null,
   "metadata": {
    "vscode": {
     "languageId": "plaintext"
    }
   },
   "outputs": [],
   "source": [
    "git clone -b develop <repository_url>.git\n",
    "cd <repository_name>"
   ]
  },
  {
   "cell_type": "markdown",
   "metadata": {},
   "source": [
    "### 2- Make changes to the code and create commit\n",
    "\n",
    "It's a good practice to add your name to the commit message when collaborating with others."
   ]
  },
  {
   "cell_type": "code",
   "execution_count": null,
   "metadata": {
    "vscode": {
     "languageId": "plaintext"
    }
   },
   "outputs": [],
   "source": [
    "git add .\n",
    "git commit -m \"[David] Added new main.py\""
   ]
  },
  {
   "cell_type": "markdown",
   "metadata": {},
   "source": [
    "### 3- Push changes\n"
   ]
  },
  {
   "cell_type": "code",
   "execution_count": null,
   "metadata": {
    "vscode": {
     "languageId": "plaintext"
    }
   },
   "outputs": [],
   "source": [
    "git push origin develop"
   ]
  },
  {
   "cell_type": "markdown",
   "metadata": {},
   "source": [
    "### 4- Create pull request, review and merge\n",
    "\n",
    "That should have created a pull request on GitHub. We can go now to the GitHub page of the repository, go to the 'Pull requests' tab and click on 'New pull request'. \n",
    "You can add a title and a description with details about the changes in the code for the visibility of others. \n",
    "Now all that is required is the review of another colleague and with that the changes can be merged.\n"
   ]
  }
 ],
 "metadata": {
  "language_info": {
   "name": "python"
  }
 },
 "nbformat": 4,
 "nbformat_minor": 2
}
